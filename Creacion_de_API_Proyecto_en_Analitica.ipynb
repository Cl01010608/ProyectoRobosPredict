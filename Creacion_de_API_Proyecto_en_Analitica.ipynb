{
  "cells": [
    {
      "cell_type": "markdown",
      "source": [
        "# Guardar el modelo"
      ],
      "metadata": {
        "id": "vpcMx-kY0Oe-"
      }
    },
    {
      "cell_type": "code",
      "execution_count": null,
      "metadata": {
        "id": "IPGPtEOwuqx6"
      },
      "outputs": [],
      "source": [
        "import pandas as pd\n",
        "\n",
        "df_encoded=pd.read_csv('https://raw.githubusercontent.com/Cl01010608/En2_PYA/main/Data_Codificada.csv', encoding='latin-1', sep=',' )"
      ]
    },
    {
      "cell_type": "code",
      "execution_count": null,
      "metadata": {
        "colab": {
          "base_uri": "https://localhost:8080/"
        },
        "id": "towAEYy9z_wo",
        "outputId": "e5d30e6a-6aff-49a4-aa45-e6b89f341501"
      },
      "outputs": [
        {
          "output_type": "stream",
          "name": "stdout",
          "text": [
            "        Arma_Empleada  Departamento  Ciudad       Fecha  Cantidad  \\\n",
            "0                   0             0       0  2022-07-09  0.007366   \n",
            "1                   0             0       0  2022-11-04  0.007366   \n",
            "2                   0             0      25  2022-03-15  0.007366   \n",
            "3                   0             0      25  2022-12-02  0.007366   \n",
            "4                   0             0      26  2022-04-06  0.007366   \n",
            "...               ...           ...     ...         ...       ...   \n",
            "142873              7            19     831  2022-07-21  0.036555   \n",
            "142874              7            19     831  2022-08-26  0.036555   \n",
            "142875              7            19     843  2022-01-27  0.036555   \n",
            "142876              5            19     271  2022-08-28  0.036555   \n",
            "142877              1            19     346  2022-02-22  0.036555   \n",
            "\n",
            "        Tipo_de_robo  CAI_Departamentos  Mes   Ano  Cantidad_unitaria  \\\n",
            "0                  4              640.0    7  2022                1.0   \n",
            "1                  4              640.0   11  2022                1.0   \n",
            "2                  4              640.0    3  2022                1.0   \n",
            "3                  4              640.0   12  2022                1.0   \n",
            "4                  4              640.0    4  2022                1.0   \n",
            "...              ...                ...  ...   ...                ...   \n",
            "142873             1              136.0    7  2022                1.0   \n",
            "142874             1              136.0    8  2022                1.0   \n",
            "142875             1              136.0    1  2022                1.0   \n",
            "142876             1              136.0    8  2022                1.0   \n",
            "142877             2              136.0    2  2022                1.0   \n",
            "\n",
            "         Poblacion  Pobreza_Monetaria  \n",
            "0       13575692.0                  3  \n",
            "1       13575692.0                  3  \n",
            "2       13575692.0                  3  \n",
            "3       13575692.0                  3  \n",
            "4       13575692.0                  3  \n",
            "...            ...                ...  \n",
            "142873   2735604.0                  9  \n",
            "142874   2735604.0                  9  \n",
            "142875   2735604.0                  9  \n",
            "142876   2735604.0                  9  \n",
            "142877   2735604.0                  9  \n",
            "\n",
            "[142878 rows x 12 columns]\n"
          ]
        }
      ],
      "source": [
        "print(df_encoded)"
      ]
    },
    {
      "cell_type": "code",
      "execution_count": null,
      "metadata": {
        "id": "Hz312putznLX"
      },
      "outputs": [],
      "source": [
        "new_data=df_encoded.drop('Fecha', axis=1)"
      ]
    },
    {
      "cell_type": "code",
      "execution_count": null,
      "metadata": {
        "id": "kGF7aLjm7fuE"
      },
      "outputs": [],
      "source": [
        "from sklearn.pipeline import Pipeline\n",
        "from sklearn.preprocessing import StandardScaler\n",
        "from sklearn.linear_model import LinearRegression, Ridge, Lasso\n",
        "from sklearn.ensemble import RandomForestRegressor\n",
        "from sklearn.model_selection import train_test_split, GridSearchCV\n",
        "from sklearn.metrics import mean_squared_error, mean_absolute_error\n",
        "import numpy as np"
      ]
    },
    {
      "cell_type": "code",
      "execution_count": null,
      "metadata": {
        "colab": {
          "base_uri": "https://localhost:8080/",
          "height": 564
        },
        "id": "uVs0HTO6zF4S",
        "outputId": "321a1866-91b2-4b4d-f9f7-1ce983584581"
      },
      "outputs": [
        {
          "output_type": "stream",
          "name": "stdout",
          "text": [
            "Linear Regression:\n",
            "Mean Squared Error: 0.022150422748984547\n",
            "Mean Absolute Error: 0.049772439458523256\n",
            "Ridge Regression:\n",
            "Mean Squared Error: 0.022150438127728673\n",
            "Mean Absolute Error: 0.04977242009636104\n",
            "Lasso Regression:\n",
            "Mean Squared Error: 0.02292446275920496\n",
            "Mean Absolute Error: 0.05186170824193703\n",
            "Random Forest:\n",
            "Mean Squared Error: 0.021959653518504693\n",
            "Mean Absolute Error: 0.047909433590405635\n"
          ]
        },
        {
          "output_type": "error",
          "ename": "KeyboardInterrupt",
          "evalue": "",
          "traceback": [
            "\u001b[0;31m---------------------------------------------------------------------------\u001b[0m",
            "\u001b[0;31mKeyboardInterrupt\u001b[0m                         Traceback (most recent call last)",
            "\u001b[0;32m<ipython-input-5-b9a527804cf3>\u001b[0m in \u001b[0;36m<cell line: 23>\u001b[0;34m()\u001b[0m\n\u001b[1;32m     44\u001b[0m     \u001b[0;32mfor\u001b[0m \u001b[0mi\u001b[0m \u001b[0;32min\u001b[0m \u001b[0mrange\u001b[0m\u001b[0;34m(\u001b[0m\u001b[0;36m10\u001b[0m\u001b[0;34m)\u001b[0m\u001b[0;34m:\u001b[0m\u001b[0;34m\u001b[0m\u001b[0;34m\u001b[0m\u001b[0m\n\u001b[1;32m     45\u001b[0m         \u001b[0mgrid_search\u001b[0m \u001b[0;34m=\u001b[0m \u001b[0mGridSearchCV\u001b[0m\u001b[0;34m(\u001b[0m\u001b[0mpipeline\u001b[0m\u001b[0;34m,\u001b[0m \u001b[0mparams\u001b[0m\u001b[0;34m,\u001b[0m \u001b[0mcv\u001b[0m\u001b[0;34m=\u001b[0m\u001b[0;36m10\u001b[0m\u001b[0;34m,\u001b[0m \u001b[0mscoring\u001b[0m\u001b[0;34m=\u001b[0m\u001b[0;34m'neg_mean_squared_error'\u001b[0m\u001b[0;34m,\u001b[0m \u001b[0mn_jobs\u001b[0m\u001b[0;34m=\u001b[0m\u001b[0;34m-\u001b[0m\u001b[0;36m1\u001b[0m\u001b[0;34m)\u001b[0m\u001b[0;34m\u001b[0m\u001b[0;34m\u001b[0m\u001b[0m\n\u001b[0;32m---> 46\u001b[0;31m         \u001b[0mgrid_search\u001b[0m\u001b[0;34m.\u001b[0m\u001b[0mfit\u001b[0m\u001b[0;34m(\u001b[0m\u001b[0mX_train\u001b[0m\u001b[0;34m,\u001b[0m \u001b[0my_train\u001b[0m\u001b[0;34m)\u001b[0m\u001b[0;34m\u001b[0m\u001b[0;34m\u001b[0m\u001b[0m\n\u001b[0m\u001b[1;32m     47\u001b[0m         \u001b[0mbest_estimator\u001b[0m \u001b[0;34m=\u001b[0m \u001b[0mgrid_search\u001b[0m\u001b[0;34m.\u001b[0m\u001b[0mbest_estimator_\u001b[0m\u001b[0;34m\u001b[0m\u001b[0;34m\u001b[0m\u001b[0m\n\u001b[1;32m     48\u001b[0m \u001b[0;34m\u001b[0m\u001b[0m\n",
            "\u001b[0;32m/usr/local/lib/python3.10/dist-packages/sklearn/model_selection/_search.py\u001b[0m in \u001b[0;36mfit\u001b[0;34m(self, X, y, groups, **fit_params)\u001b[0m\n\u001b[1;32m    872\u001b[0m                 \u001b[0;32mreturn\u001b[0m \u001b[0mresults\u001b[0m\u001b[0;34m\u001b[0m\u001b[0;34m\u001b[0m\u001b[0m\n\u001b[1;32m    873\u001b[0m \u001b[0;34m\u001b[0m\u001b[0m\n\u001b[0;32m--> 874\u001b[0;31m             \u001b[0mself\u001b[0m\u001b[0;34m.\u001b[0m\u001b[0m_run_search\u001b[0m\u001b[0;34m(\u001b[0m\u001b[0mevaluate_candidates\u001b[0m\u001b[0;34m)\u001b[0m\u001b[0;34m\u001b[0m\u001b[0;34m\u001b[0m\u001b[0m\n\u001b[0m\u001b[1;32m    875\u001b[0m \u001b[0;34m\u001b[0m\u001b[0m\n\u001b[1;32m    876\u001b[0m             \u001b[0;31m# multimetric is determined here because in the case of a callable\u001b[0m\u001b[0;34m\u001b[0m\u001b[0;34m\u001b[0m\u001b[0m\n",
            "\u001b[0;32m/usr/local/lib/python3.10/dist-packages/sklearn/model_selection/_search.py\u001b[0m in \u001b[0;36m_run_search\u001b[0;34m(self, evaluate_candidates)\u001b[0m\n\u001b[1;32m   1386\u001b[0m     \u001b[0;32mdef\u001b[0m \u001b[0m_run_search\u001b[0m\u001b[0;34m(\u001b[0m\u001b[0mself\u001b[0m\u001b[0;34m,\u001b[0m \u001b[0mevaluate_candidates\u001b[0m\u001b[0;34m)\u001b[0m\u001b[0;34m:\u001b[0m\u001b[0;34m\u001b[0m\u001b[0;34m\u001b[0m\u001b[0m\n\u001b[1;32m   1387\u001b[0m         \u001b[0;34m\"\"\"Search all candidates in param_grid\"\"\"\u001b[0m\u001b[0;34m\u001b[0m\u001b[0;34m\u001b[0m\u001b[0m\n\u001b[0;32m-> 1388\u001b[0;31m         \u001b[0mevaluate_candidates\u001b[0m\u001b[0;34m(\u001b[0m\u001b[0mParameterGrid\u001b[0m\u001b[0;34m(\u001b[0m\u001b[0mself\u001b[0m\u001b[0;34m.\u001b[0m\u001b[0mparam_grid\u001b[0m\u001b[0;34m)\u001b[0m\u001b[0;34m)\u001b[0m\u001b[0;34m\u001b[0m\u001b[0;34m\u001b[0m\u001b[0m\n\u001b[0m\u001b[1;32m   1389\u001b[0m \u001b[0;34m\u001b[0m\u001b[0m\n\u001b[1;32m   1390\u001b[0m \u001b[0;34m\u001b[0m\u001b[0m\n",
            "\u001b[0;32m/usr/local/lib/python3.10/dist-packages/sklearn/model_selection/_search.py\u001b[0m in \u001b[0;36mevaluate_candidates\u001b[0;34m(candidate_params, cv, more_results)\u001b[0m\n\u001b[1;32m    819\u001b[0m                     )\n\u001b[1;32m    820\u001b[0m \u001b[0;34m\u001b[0m\u001b[0m\n\u001b[0;32m--> 821\u001b[0;31m                 out = parallel(\n\u001b[0m\u001b[1;32m    822\u001b[0m                     delayed(_fit_and_score)(\n\u001b[1;32m    823\u001b[0m                         \u001b[0mclone\u001b[0m\u001b[0;34m(\u001b[0m\u001b[0mbase_estimator\u001b[0m\u001b[0;34m)\u001b[0m\u001b[0;34m,\u001b[0m\u001b[0;34m\u001b[0m\u001b[0;34m\u001b[0m\u001b[0m\n",
            "\u001b[0;32m/usr/local/lib/python3.10/dist-packages/sklearn/utils/parallel.py\u001b[0m in \u001b[0;36m__call__\u001b[0;34m(self, iterable)\u001b[0m\n\u001b[1;32m     61\u001b[0m             \u001b[0;32mfor\u001b[0m \u001b[0mdelayed_func\u001b[0m\u001b[0;34m,\u001b[0m \u001b[0margs\u001b[0m\u001b[0;34m,\u001b[0m \u001b[0mkwargs\u001b[0m \u001b[0;32min\u001b[0m \u001b[0miterable\u001b[0m\u001b[0;34m\u001b[0m\u001b[0;34m\u001b[0m\u001b[0m\n\u001b[1;32m     62\u001b[0m         )\n\u001b[0;32m---> 63\u001b[0;31m         \u001b[0;32mreturn\u001b[0m \u001b[0msuper\u001b[0m\u001b[0;34m(\u001b[0m\u001b[0;34m)\u001b[0m\u001b[0;34m.\u001b[0m\u001b[0m__call__\u001b[0m\u001b[0;34m(\u001b[0m\u001b[0miterable_with_config\u001b[0m\u001b[0;34m)\u001b[0m\u001b[0;34m\u001b[0m\u001b[0;34m\u001b[0m\u001b[0m\n\u001b[0m\u001b[1;32m     64\u001b[0m \u001b[0;34m\u001b[0m\u001b[0m\n\u001b[1;32m     65\u001b[0m \u001b[0;34m\u001b[0m\u001b[0m\n",
            "\u001b[0;32m/usr/local/lib/python3.10/dist-packages/joblib/parallel.py\u001b[0m in \u001b[0;36m__call__\u001b[0;34m(self, iterable)\u001b[0m\n\u001b[1;32m   2005\u001b[0m         \u001b[0mnext\u001b[0m\u001b[0;34m(\u001b[0m\u001b[0moutput\u001b[0m\u001b[0;34m)\u001b[0m\u001b[0;34m\u001b[0m\u001b[0;34m\u001b[0m\u001b[0m\n\u001b[1;32m   2006\u001b[0m \u001b[0;34m\u001b[0m\u001b[0m\n\u001b[0;32m-> 2007\u001b[0;31m         \u001b[0;32mreturn\u001b[0m \u001b[0moutput\u001b[0m \u001b[0;32mif\u001b[0m \u001b[0mself\u001b[0m\u001b[0;34m.\u001b[0m\u001b[0mreturn_generator\u001b[0m \u001b[0;32melse\u001b[0m \u001b[0mlist\u001b[0m\u001b[0;34m(\u001b[0m\u001b[0moutput\u001b[0m\u001b[0;34m)\u001b[0m\u001b[0;34m\u001b[0m\u001b[0;34m\u001b[0m\u001b[0m\n\u001b[0m\u001b[1;32m   2008\u001b[0m \u001b[0;34m\u001b[0m\u001b[0m\n\u001b[1;32m   2009\u001b[0m     \u001b[0;32mdef\u001b[0m \u001b[0m__repr__\u001b[0m\u001b[0;34m(\u001b[0m\u001b[0mself\u001b[0m\u001b[0;34m)\u001b[0m\u001b[0;34m:\u001b[0m\u001b[0;34m\u001b[0m\u001b[0;34m\u001b[0m\u001b[0m\n",
            "\u001b[0;32m/usr/local/lib/python3.10/dist-packages/joblib/parallel.py\u001b[0m in \u001b[0;36m_get_outputs\u001b[0;34m(self, iterator, pre_dispatch)\u001b[0m\n\u001b[1;32m   1648\u001b[0m \u001b[0;34m\u001b[0m\u001b[0m\n\u001b[1;32m   1649\u001b[0m             \u001b[0;32mwith\u001b[0m \u001b[0mself\u001b[0m\u001b[0;34m.\u001b[0m\u001b[0m_backend\u001b[0m\u001b[0;34m.\u001b[0m\u001b[0mretrieval_context\u001b[0m\u001b[0;34m(\u001b[0m\u001b[0;34m)\u001b[0m\u001b[0;34m:\u001b[0m\u001b[0;34m\u001b[0m\u001b[0;34m\u001b[0m\u001b[0m\n\u001b[0;32m-> 1650\u001b[0;31m                 \u001b[0;32myield\u001b[0m \u001b[0;32mfrom\u001b[0m \u001b[0mself\u001b[0m\u001b[0;34m.\u001b[0m\u001b[0m_retrieve\u001b[0m\u001b[0;34m(\u001b[0m\u001b[0;34m)\u001b[0m\u001b[0;34m\u001b[0m\u001b[0;34m\u001b[0m\u001b[0m\n\u001b[0m\u001b[1;32m   1651\u001b[0m \u001b[0;34m\u001b[0m\u001b[0m\n\u001b[1;32m   1652\u001b[0m         \u001b[0;32mexcept\u001b[0m \u001b[0mGeneratorExit\u001b[0m\u001b[0;34m:\u001b[0m\u001b[0;34m\u001b[0m\u001b[0;34m\u001b[0m\u001b[0m\n",
            "\u001b[0;32m/usr/local/lib/python3.10/dist-packages/joblib/parallel.py\u001b[0m in \u001b[0;36m_retrieve\u001b[0;34m(self)\u001b[0m\n\u001b[1;32m   1760\u001b[0m                 (self._jobs[0].get_status(\n\u001b[1;32m   1761\u001b[0m                     timeout=self.timeout) == TASK_PENDING)):\n\u001b[0;32m-> 1762\u001b[0;31m                 \u001b[0mtime\u001b[0m\u001b[0;34m.\u001b[0m\u001b[0msleep\u001b[0m\u001b[0;34m(\u001b[0m\u001b[0;36m0.01\u001b[0m\u001b[0;34m)\u001b[0m\u001b[0;34m\u001b[0m\u001b[0;34m\u001b[0m\u001b[0m\n\u001b[0m\u001b[1;32m   1763\u001b[0m                 \u001b[0;32mcontinue\u001b[0m\u001b[0;34m\u001b[0m\u001b[0;34m\u001b[0m\u001b[0m\n\u001b[1;32m   1764\u001b[0m \u001b[0;34m\u001b[0m\u001b[0m\n",
            "\u001b[0;31mKeyboardInterrupt\u001b[0m: "
          ]
        }
      ],
      "source": [
        "variables_numericas = new_data.select_dtypes(include=['float64', 'int64'])\n",
        "# Define X e y\n",
        "X = variables_numericas.drop(columns=['Cantidad','Arma_Empleada','Ciudad','Tipo_de_robo','Cantidad_unitaria'])\n",
        "y = variables_numericas['Cantidad']\n",
        "\n",
        "# Divide los datos en conjuntos de entrenamiento y prueba\n",
        "X_train, X_test, y_train, y_test = train_test_split(X, y, test_size=0.2)\n",
        "\n",
        "# Define los modelos con los parámetros a ajustar\n",
        "models = {\n",
        "    'Linear Regression': (LinearRegression(), {}),\n",
        "    'Ridge Regression': (Ridge(), {'regressor__alpha': [0.1, 1.0, 10.0],'regressor__max_iter': [100, 1000]}),\n",
        "    'Lasso Regression': (Lasso(), {'regressor__alpha': [0.1, 1.0, 10.0],'regressor__max_iter': [100, 1000]}),\n",
        "    'Random Forest': (RandomForestRegressor(), {'regressor__n_estimators': [100, 200, 300],'regressor__criterion': ['squared_error'], 'regressor__max_samples': [1/3, 2/3]})\n",
        "}\n",
        "# Crear una lista para almacenar los mejores estimadores\n",
        "pipelines = []\n",
        "mse_values = []\n",
        "mae_values = []\n",
        "mse_iter_values = {model_name: [] for model_name in models}\n",
        "mae_iter_values = {model_name: [] for model_name in models}\n",
        "\n",
        "for model_name, (model, params) in models.items():\n",
        "    pipeline = Pipeline([\n",
        "        ('scaler', StandardScaler()),\n",
        "        ('regressor', model)\n",
        "    ])\n",
        "    # Ajustar el pipeline con GridSearchCV para optimizar hiperparámetros\n",
        "    grid_search = GridSearchCV(pipeline, params, cv=10, scoring='neg_mean_squared_error', n_jobs=-1)\n",
        "    grid_search.fit(X_train, y_train)\n",
        "    best_estimator = grid_search.best_estimator_\n",
        "    pipelines.append((model_name, best_estimator))\n",
        "    # Evaluar los modelos en el conjunto de prueba y calcular MSE y MAE\n",
        "    y_pred = best_estimator.predict(X_test)\n",
        "    mse = mean_squared_error(y_test, y_pred)\n",
        "    mae = mean_absolute_error(y_test, y_pred)\n",
        "    mse_values.append(mse)\n",
        "    mae_values.append(mae)\n",
        "\n",
        "    print(f\"{model_name}:\")\n",
        "    print(f\"Mean Squared Error: {mse}\")\n",
        "    print(f\"Mean Absolute Error: {mae}\")\n",
        "    # Almacenar los errores MSE y MAE para cada iteración\n",
        "    for i in range(10):\n",
        "        grid_search = GridSearchCV(pipeline, params, cv=10, scoring='neg_mean_squared_error', n_jobs=-1)\n",
        "        grid_search.fit(X_train, y_train)\n",
        "        best_estimator = grid_search.best_estimator_\n",
        "\n",
        "        # Evaluar el modelo en el conjunto de prueba y calcular MSE y MAE\n",
        "        y_pred = best_estimator.predict(X_test)\n",
        "        mse_iter = mean_squared_error(y_test, y_pred)\n",
        "        mae_iter = mean_absolute_error(y_test, y_pred)\n",
        "        mse_iter_values[model_name].append(mse_iter)\n",
        "        mae_iter_values[model_name].append(mae_iter)\n",
        "\n",
        "# Seleccionar el modelo con el menor MSE\n",
        "best_model_index = min(enumerate(mse_values), key=lambda x: x[1])[0]\n",
        "best_model_name = list(models.keys())[best_model_index]\n",
        "best_mse = mse_values[best_model_index]\n",
        "print(f\"Best model based on test MSE: {best_model_name}\")\n",
        "print(f\"Mean Squared Error: {best_mse}\")\n",
        "\n",
        "# Obtener los parámetros del mejor modelo\n",
        "print(f\"Parameters of the best model ({best_model_name}):\")\n",
        "best_params = pipelines[best_model_index][1].named_steps['regressor']\n",
        "print(best_params.get_params())\n"
      ]
    },
    {
      "cell_type": "code",
      "execution_count": null,
      "metadata": {
        "colab": {
          "base_uri": "https://localhost:8080/"
        },
        "id": "AoRyP8PmzUa2",
        "outputId": "8fdd5046-a51e-45ab-d667-bf7a574eb270"
      },
      "outputs": [
        {
          "data": {
            "text/plain": [
              "['best_model_SqEr.pkl']"
            ]
          },
          "execution_count": 5,
          "metadata": {},
          "output_type": "execute_result"
        }
      ],
      "source": [
        "import joblib\n",
        "\n",
        "# Save the best model\n",
        "best_model = pipelines[best_model_index][1]\n",
        "joblib.dump(best_model, 'best_model_SqEr.pkl')"
      ]
    },
    {
      "cell_type": "markdown",
      "source": [
        "# Generar API"
      ],
      "metadata": {
        "id": "eLw4ObTu0XGP"
      }
    },
    {
      "cell_type": "code",
      "source": [
        "import joblib\n",
        "\n",
        "# Cargar el modelo\n",
        "model = joblib.load('best_model_SqEr.pkl')\n",
        "\n",
        "# Ejemplo de datos para la predicción\n",
        "example_data = [12,  136, 4, 2022, 13575692, 2]\n",
        "\n",
        "# Realizar la predicción\n",
        "prediction = model.predict([example_data])\n",
        "\n",
        "# Imprimir el resultado\n",
        "print(prediction)"
      ],
      "metadata": {
        "colab": {
          "base_uri": "https://localhost:8080/"
        },
        "id": "-z2Uy3P7Gro0",
        "outputId": "af801f82-bdb7-484d-a41d-5d23e98cb721"
      },
      "execution_count": 3,
      "outputs": [
        {
          "output_type": "stream",
          "name": "stdout",
          "text": [
            "[0.10655173]\n"
          ]
        },
        {
          "output_type": "stream",
          "name": "stderr",
          "text": [
            "/usr/local/lib/python3.10/dist-packages/sklearn/base.py:439: UserWarning: X does not have valid feature names, but StandardScaler was fitted with feature names\n",
            "  warnings.warn(\n"
          ]
        }
      ]
    },
    {
      "cell_type": "code",
      "source": [
        "from flask import Flask, request, jsonify\n",
        "import pickle\n",
        "\n",
        "app = Flask(__name__)\n",
        "# Cargar el modelo\n",
        "model = joblib.load('best_model_SqEr.pkl')\n",
        "\n",
        "# Ruta para la API\n",
        "@app.route('/api/prediction', methods=['POST'])\n",
        "def predict():\n",
        "    # Obtener los datos de la petición HTTP\n",
        "    data = request.get_json()\n",
        "\n",
        "    # Extraer los valores de las variables\n",
        "    departamento = data['Departamento']\n",
        "    cai_departamentos = data['CAI_Departamentos']\n",
        "    mes = data['Mes']\n",
        "    ano = data['Ano']\n",
        "    poblacion = data['Poblacion']\n",
        "    pobreza_monetaria = data['Pobreza_Monetaria']\n",
        "\n",
        "    # Realizar la predicción utilizando el modelo cargado\n",
        "    prediction = model.predict([[departamento, cai_departamentos, mes, ano, poblacion, pobreza_monetaria]])\n",
        "\n",
        "    # Devolver la predicción como respuesta\n",
        "    response = {'prediction': prediction[0]}\n",
        "    return jsonify(response)\n",
        "\n",
        "if __name__ == '__main__':\n",
        "    app.run()"
      ],
      "metadata": {
        "colab": {
          "base_uri": "https://localhost:8080/"
        },
        "id": "TgurQFOl0cq6",
        "outputId": "df5d7b63-3a58-4557-be53-2d7e9a465af4"
      },
      "execution_count": 9,
      "outputs": [
        {
          "metadata": {
            "tags": null
          },
          "name": "stdout",
          "output_type": "stream",
          "text": [
            " * Serving Flask app '__main__'\n",
            " * Debug mode: off\n"
          ]
        },
        {
          "metadata": {
            "tags": null
          },
          "name": "stderr",
          "output_type": "stream",
          "text": [
            "INFO:werkzeug:\u001b[31m\u001b[1mWARNING: This is a development server. Do not use it in a production deployment. Use a production WSGI server instead.\u001b[0m\n",
            " * Running on http://127.0.0.1:5000\n",
            "INFO:werkzeug:\u001b[33mPress CTRL+C to quit\u001b[0m\n"
          ]
        }
      ]
    }
  ],
  "metadata": {
    "colab": {
      "provenance": []
    },
    "kernelspec": {
      "display_name": "Python 3",
      "name": "python3"
    },
    "language_info": {
      "name": "python"
    }
  },
  "nbformat": 4,
  "nbformat_minor": 0
}